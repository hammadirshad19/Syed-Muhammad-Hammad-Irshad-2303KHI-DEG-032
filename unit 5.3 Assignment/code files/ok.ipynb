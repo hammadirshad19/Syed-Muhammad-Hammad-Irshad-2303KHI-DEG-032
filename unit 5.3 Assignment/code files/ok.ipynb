{
 "cells": [
  {
   "cell_type": "code",
   "execution_count": 55,
   "id": "ce85c550-50b7-452d-b1f6-bbf5dcb19697",
   "metadata": {},
   "outputs": [],
   "source": [
    "import pyspark\n",
    "from pyspark.sql import SparkSession\n",
    "from pyspark.sql.functions import col, mean, max, min, udf\n",
    "from pyspark.sql.types import DateType, IntegerType, StringType, StructType, FloatType"
   ]
  },
  {
   "cell_type": "code",
   "execution_count": 56,
   "id": "262a97a4-1037-4382-a6f2-be2c45266307",
   "metadata": {},
   "outputs": [],
   "source": [
    "spark = SparkSession.builder \\\n",
    "    .appName(\"DataAssignment\") \\\n",
    "    .getOrCreate()"
   ]
  },
  {
   "cell_type": "code",
   "execution_count": 57,
   "id": "38e83725-b9b3-4385-a53e-c8dc938b5723",
   "metadata": {},
   "outputs": [],
   "source": [
    "df = spark.read.csv(\"titanic.csv\", header=False, inferSchema=True)"
   ]
  },
  {
   "cell_type": "code",
   "execution_count": 58,
   "id": "001095de-1c6e-4747-b5f2-984e85af7b7f",
   "metadata": {
    "tags": []
   },
   "outputs": [
    {
     "name": "stdout",
     "output_type": "stream",
     "text": [
      "+---+---+---+--------------------+------+----+---+---+----------------+-------+----+----+-------------------+\n",
      "|_c0|_c1|_c2|                 _c3|   _c4| _c5|_c6|_c7|             _c8|    _c9|_c10|_c11|               _c12|\n",
      "+---+---+---+--------------------+------+----+---+---+----------------+-------+----+----+-------------------+\n",
      "|  1|  0|  3|Braund, Mr. Owen ...|  male|  22|  1|  0|       A/5 21171|   7.25|null|   S|2020-01-01 13:45:25|\n",
      "|  2|  1|  1|Cumings, Mrs. Joh...|female|  38|  1|  0|        PC 17599|71.2833| C85|   C|2020-01-01 13:44:48|\n",
      "|  3|  1|  3|Heikkinen, Miss. ...|female|  26|  0|  0|STON/O2. 3101282|  7.925|null|   S|2020-01-01 13:38:11|\n",
      "|  4|  1|  1|Futrelle, Mrs. Ja...|female|  35|  1|  0|          113803|   53.1|C123|   S|2020-01-01 13:32:00|\n",
      "|  5|  0|  3|Allen, Mr. Willia...|  male|  35|  0|  0|          373450|   8.05|null|   S|2020-01-01 13:36:30|\n",
      "|  6|  0|  3|    Moran, Mr. James|  male|null|  0|  0|          330877| 8.4583|null|   Q|2020-01-01 13:31:39|\n",
      "|  7|  0|  1|McCarthy, Mr. Tim...|  male|  54|  0|  0|           17463|51.8625| E46|   S|2020-01-01 13:37:31|\n",
      "|  8|  0|  3|Palsson, Master. ...|  male|   2|  3|  1|          349909| 21.075|null|   S|2020-01-01 13:49:08|\n",
      "|  9|  1|  3|Johnson, Mrs. Osc...|female|  27|  0|  2|          347742|11.1333|null|   S|2020-01-01 13:33:42|\n",
      "| 10|  1|  2|Nasser, Mrs. Nich...|female|  14|  1|  0|          237736|30.0708|null|   C|2020-01-01 13:32:53|\n",
      "| 11|  1|  3|Sandstrom, Miss. ...|female|   4|  1|  1|         PP 9549|   16.7|  G6|   S|2020-01-01 13:32:23|\n",
      "| 12|  1|  1|Bonnell, Miss. El...|female|  58|  0|  0|          113783|  26.55|C103|   S|2020-01-01 13:30:12|\n",
      "| 13|  0|  3|Saundercock, Mr. ...|  male|  20|  0|  0|       A/5. 2151|   8.05|null|   S|2020-01-01 13:33:34|\n",
      "| 14|  0|  3|Andersson, Mr. An...|  male|  39|  1|  5|          347082| 31.275|null|   S|2020-01-01 13:30:20|\n",
      "| 15|  0|  3|Vestrom, Miss. Hu...|female|  14|  0|  0|          350406| 7.8542|null|   S|2020-01-01 13:41:17|\n",
      "| 16|  1|  2|Hewlett, Mrs. (Ma...|female|  55|  0|  0|          248706|   16.0|null|   S|2020-01-01 13:34:22|\n",
      "| 17|  0|  3|Rice, Master. Eugene|  male|   2|  4|  1|          382652| 29.125|null|   Q|2020-01-01 13:41:55|\n",
      "| 18|  1|  2|Williams, Mr. Cha...|  male|null|  0|  0|          244373|   13.0|null|   S|2020-01-01 13:39:35|\n",
      "| 19|  0|  3|Vander Planke, Mr...|female|  31|  1|  0|          345763|   18.0|null|   S|2020-01-01 13:39:38|\n",
      "| 20|  1|  3|Masselmani, Mrs. ...|female|null|  0|  0|            2649|  7.225|null|   C|2020-01-01 13:36:56|\n",
      "+---+---+---+--------------------+------+----+---+---+----------------+-------+----+----+-------------------+\n",
      "only showing top 20 rows\n",
      "\n"
     ]
    }
   ],
   "source": [
    "df.show()"
   ]
  },
  {
   "cell_type": "code",
   "execution_count": 59,
   "id": "3bc746f9-56ed-4938-b4be-11c40579506b",
   "metadata": {},
   "outputs": [
    {
     "name": "stdout",
     "output_type": "stream",
     "text": [
      "root\n",
      " |-- _c0: integer (nullable = true)\n",
      " |-- _c1: integer (nullable = true)\n",
      " |-- _c2: integer (nullable = true)\n",
      " |-- _c3: string (nullable = true)\n",
      " |-- _c4: string (nullable = true)\n",
      " |-- _c5: integer (nullable = true)\n",
      " |-- _c6: integer (nullable = true)\n",
      " |-- _c7: integer (nullable = true)\n",
      " |-- _c8: string (nullable = true)\n",
      " |-- _c9: double (nullable = true)\n",
      " |-- _c10: string (nullable = true)\n",
      " |-- _c11: string (nullable = true)\n",
      " |-- _c12: timestamp (nullable = true)\n",
      "\n"
     ]
    }
   ],
   "source": [
    "df.printSchema()"
   ]
  },
  {
   "cell_type": "code",
   "execution_count": 60,
   "id": "73b05c1d-d868-4d66-baa0-757d56feb693",
   "metadata": {},
   "outputs": [
    {
     "name": "stdout",
     "output_type": "stream",
     "text": [
      "+---+---+---+----+---+---+-------+\n",
      "|_c0|_c1|_c2| _c5|_c6|_c7|    _c9|\n",
      "+---+---+---+----+---+---+-------+\n",
      "|  1|  0|  3|  22|  1|  0|   7.25|\n",
      "|  2|  1|  1|  38|  1|  0|71.2833|\n",
      "|  3|  1|  3|  26|  0|  0|  7.925|\n",
      "|  4|  1|  1|  35|  1|  0|   53.1|\n",
      "|  5|  0|  3|  35|  0|  0|   8.05|\n",
      "|  6|  0|  3|null|  0|  0| 8.4583|\n",
      "|  7|  0|  1|  54|  0|  0|51.8625|\n",
      "|  8|  0|  3|   2|  3|  1| 21.075|\n",
      "|  9|  1|  3|  27|  0|  2|11.1333|\n",
      "| 10|  1|  2|  14|  1|  0|30.0708|\n",
      "| 11|  1|  3|   4|  1|  1|   16.7|\n",
      "| 12|  1|  1|  58|  0|  0|  26.55|\n",
      "| 13|  0|  3|  20|  0|  0|   8.05|\n",
      "| 14|  0|  3|  39|  1|  5| 31.275|\n",
      "| 15|  0|  3|  14|  0|  0| 7.8542|\n",
      "| 16|  1|  2|  55|  0|  0|   16.0|\n",
      "| 17|  0|  3|   2|  4|  1| 29.125|\n",
      "| 18|  1|  2|null|  0|  0|   13.0|\n",
      "| 19|  0|  3|  31|  1|  0|   18.0|\n",
      "| 20|  1|  3|null|  0|  0|  7.225|\n",
      "+---+---+---+----+---+---+-------+\n",
      "only showing top 20 rows\n",
      "\n"
     ]
    }
   ],
   "source": [
    "# Get the column names and data types\n",
    "column_types = df.dtypes\n",
    "# Filter the DataFrame to select only integer columns\n",
    "integer_columns = [col_name for col_name, col_type in column_types if col_type == \"int\" or col_type == \"double\"]\n",
    "# Select the integer columns\n",
    "selected_integer_columns_df = df.select(*integer_columns)\n",
    "# Show the selected DataFrame\n",
    "selected_integer_columns_df.show()"
   ]
  },
  {
   "cell_type": "code",
   "execution_count": 61,
   "id": "50ac1ff7-2a3f-4d4d-b2e2-1761674aabbb",
   "metadata": {},
   "outputs": [
    {
     "name": "stdout",
     "output_type": "stream",
     "text": [
      "+-------------------+--------+---+\n",
      "|            Average|     Max|Min|\n",
      "+-------------------+--------+---+\n",
      "|              446.0|   891.0|1.0|\n",
      "| 0.3838383838383838|     1.0|0.0|\n",
      "|  2.308641975308642|     3.0|1.0|\n",
      "| 29.679271708683473|    80.0|0.0|\n",
      "| 0.5230078563411896|     8.0|0.0|\n",
      "|0.38159371492704824|     6.0|0.0|\n",
      "|   32.2042079685746|512.3292|0.0|\n",
      "+-------------------+--------+---+\n",
      "\n"
     ]
    }
   ],
   "source": [
    "inital_state = True\n",
    "for col in selected_integer_columns_df:\n",
    "    calculate_df = df.agg(mean(col).alias(\"Average\"),max(col).alias(\"Max\"),min(col).alias(\"Min\")) \n",
    "    if inital_state:\n",
    "        merged_avg_max_min_df = calculate_df\n",
    "        inital_state = False\n",
    "    else:\n",
    "        merged_avg_max_min_df = merged_avg_max_min_df.unionAll(calculate_df)\n",
    "    \n",
    "merged_df.show()"
   ]
  },
  {
   "cell_type": "code",
   "execution_count": 62,
   "id": "64078395-8cfa-44c7-972b-20ae4767e476",
   "metadata": {},
   "outputs": [
    {
     "name": "stdout",
     "output_type": "stream",
     "text": [
      "+---+---+---+--------------------+------+----+---+---+----------------+-------+----+----+-------------------+\n",
      "|_c0|_c1|_c2|                 _c3|   _c4| _c5|_c6|_c7|             _c8|    _c9|_c10|_c11|               _c12|\n",
      "+---+---+---+--------------------+------+----+---+---+----------------+-------+----+----+-------------------+\n",
      "|  1|  0|  3|Braund, Mr. Owen ...|  mal1|  22|  1|  0|       A/5 21171|   7.25|null|   1|2020-01-01 13:45:25|\n",
      "|  2|  1|  1|Cumings, Mrs. Joh...|femal1|  38|  1|  0|        PC 17599|71.2833| C81|   1|2020-01-01 13:44:48|\n",
      "|  3|  1|  3|Heikkinen, Miss. ...|femal1|  26|  0|  0|STON/O2. 3101282|  7.925|null|   1|2020-01-01 13:38:11|\n",
      "|  4|  1|  1|Futrelle, Mrs. Ja...|femal1|  35|  1|  0|          113803|   53.1|C121|   1|2020-01-01 13:32:00|\n",
      "|  5|  0|  3|Allen, Mr. Willia...|  mal1|  35|  0|  0|          373450|   8.05|null|   1|2020-01-01 13:36:30|\n",
      "|  6|  0|  3|    Moran, Mr. James|  mal1|null|  0|  0|          330877| 8.4583|null|   1|2020-01-01 13:31:39|\n",
      "|  7|  0|  1|McCarthy, Mr. Tim...|  mal1|  54|  0|  0|           17463|51.8625| E41|   1|2020-01-01 13:37:31|\n",
      "|  8|  0|  3|Palsson, Master. ...|  mal1|   2|  3|  1|          349909| 21.075|null|   1|2020-01-01 13:49:08|\n",
      "|  9|  1|  3|Johnson, Mrs. Osc...|femal1|  27|  0|  2|          347742|11.1333|null|   1|2020-01-01 13:33:42|\n",
      "| 10|  1|  2|Nasser, Mrs. Nich...|femal1|  14|  1|  0|          237736|30.0708|null|   1|2020-01-01 13:32:53|\n",
      "| 11|  1|  3|Sandstrom, Miss. ...|femal1|   4|  1|  1|         PP 9549|   16.7|  G1|   1|2020-01-01 13:32:23|\n",
      "| 12|  1|  1|Bonnell, Miss. El...|femal1|  58|  0|  0|          113783|  26.55|C101|   1|2020-01-01 13:30:12|\n",
      "| 13|  0|  3|Saundercock, Mr. ...|  mal1|  20|  0|  0|       A/5. 2151|   8.05|null|   1|2020-01-01 13:33:34|\n",
      "| 14|  0|  3|Andersson, Mr. An...|  mal1|  39|  1|  5|          347082| 31.275|null|   1|2020-01-01 13:30:20|\n",
      "| 15|  0|  3|Vestrom, Miss. Hu...|femal1|  14|  0|  0|          350406| 7.8542|null|   1|2020-01-01 13:41:17|\n",
      "| 16|  1|  2|Hewlett, Mrs. (Ma...|femal1|  55|  0|  0|          248706|   16.0|null|   1|2020-01-01 13:34:22|\n",
      "| 17|  0|  3|Rice, Master. Eugene|  mal1|   2|  4|  1|          382652| 29.125|null|   1|2020-01-01 13:41:55|\n",
      "| 18|  1|  2|Williams, Mr. Cha...|  mal1|null|  0|  0|          244373|   13.0|null|   1|2020-01-01 13:39:35|\n",
      "| 19|  0|  3|Vander Planke, Mr...|femal1|  31|  1|  0|          345763|   18.0|null|   1|2020-01-01 13:39:38|\n",
      "| 20|  1|  3|Masselmani, Mrs. ...|femal1|null|  0|  0|            2649|  7.225|null|   1|2020-01-01 13:36:56|\n",
      "+---+---+---+--------------------+------+----+---+---+----------------+-------+----+----+-------------------+\n",
      "only showing top 20 rows\n",
      "\n"
     ]
    }
   ],
   "source": [
    "str_columns = [\"_c4\",\"_c10\",\"_c11\"]\n",
    "def change_last_letter_after_space(word):\n",
    "    if word is not None:\n",
    "        words = word.split()\n",
    "        for i in range(len(words)):\n",
    "            words[i] = words[i][:-1] + \"1\"\n",
    "        return \" \".join(words)\n",
    "    return word\n",
    "change_last_letter_udf = udf(change_last_letter_after_space, StringType())\n",
    "for column in str_columns:\n",
    "    df = df.withColumn(column, change_last_letter_udf(df[column]))\n",
    "df.show()"
   ]
  },
  {
   "cell_type": "code",
   "execution_count": 63,
   "id": "f21edb66-5c13-4a72-96c4-5ef065894c36",
   "metadata": {},
   "outputs": [
    {
     "name": "stdout",
     "output_type": "stream",
     "text": [
      "+---+---+---+--------------------+------+----+---+---+----------------+-------+----+----+-------------------+\n",
      "|_c0|_c1|_c2|                 _c3|   _c4| _c5|_c6|_c7|             _c8|    _c9|_c10|_c11|               _c12|\n",
      "+---+---+---+--------------------+------+----+---+---+----------------+-------+----+----+-------------------+\n",
      "|  1|  0|  3|Braund, Mr. Owen ...|  mal1|  22|  1|  0|       A/5 21171|   7.25|null|   1|2020-01-01 13:45:25|\n",
      "|  2|  1|  1|Cumings, Mrs. Joh...|femal1|  38|  1|  0|        PC 17599|71.2833| C81|   1|2020-01-01 13:44:48|\n",
      "|  3|  1|  3|Heikkinen, Miss. ...|femal1|  26|  0|  0|STON/O2. 3101282|  7.925|null|   1|2020-01-01 13:38:11|\n",
      "|  4|  1|  1|Futrelle, Mrs. Ja...|femal1|  35|  1|  0|          113803|   53.1|C121|   1|2020-01-01 13:32:00|\n",
      "|  5|  0|  3|Allen, Mr. Willia...|  mal1|  35|  0|  0|          373450|   8.05|null|   1|2020-01-01 13:36:30|\n",
      "|  6|  0|  3|    Moran, Mr. James|  mal1|null|  0|  0|          330877| 8.4583|null|   1|2020-01-01 13:31:39|\n",
      "|  7|  0|  1|McCarthy, Mr. Tim...|  mal1|  54|  0|  0|           17463|51.8625| E41|   1|2020-01-01 13:37:31|\n",
      "|  8|  0|  3|Palsson, Master. ...|  mal1|   2|  3|  1|          349909| 21.075|null|   1|2020-01-01 13:49:08|\n",
      "|  9|  1|  3|Johnson, Mrs. Osc...|femal1|  27|  0|  2|          347742|11.1333|null|   1|2020-01-01 13:33:42|\n",
      "| 10|  1|  2|Nasser, Mrs. Nich...|femal1|  14|  1|  0|          237736|30.0708|null|   1|2020-01-01 13:32:53|\n",
      "| 11|  1|  3|Sandstrom, Miss. ...|femal1|   4|  1|  1|         PP 9549|   16.7|  G1|   1|2020-01-01 13:32:23|\n",
      "| 12|  1|  1|Bonnell, Miss. El...|femal1|  58|  0|  0|          113783|  26.55|C101|   1|2020-01-01 13:30:12|\n",
      "| 13|  0|  3|Saundercock, Mr. ...|  mal1|  20|  0|  0|       A/5. 2151|   8.05|null|   1|2020-01-01 13:33:34|\n",
      "| 14|  0|  3|Andersson, Mr. An...|  mal1|  39|  1|  5|          347082| 31.275|null|   1|2020-01-01 13:30:20|\n",
      "| 15|  0|  3|Vestrom, Miss. Hu...|femal1|  14|  0|  0|          350406| 7.8542|null|   1|2020-01-01 13:41:17|\n",
      "| 16|  1|  2|Hewlett, Mrs. (Ma...|femal1|  55|  0|  0|          248706|   16.0|null|   1|2020-01-01 13:34:22|\n",
      "| 17|  0|  3|Rice, Master. Eugene|  mal1|   2|  4|  1|          382652| 29.125|null|   1|2020-01-01 13:41:55|\n",
      "| 18|  1|  2|Williams, Mr. Cha...|  mal1|null|  0|  0|          244373|   13.0|null|   1|2020-01-01 13:39:35|\n",
      "| 19|  0|  3|Vander Planke, Mr...|femal1|  31|  1|  0|          345763|   18.0|null|   1|2020-01-01 13:39:38|\n",
      "| 20|  1|  3|Masselmani, Mrs. ...|femal1|null|  0|  0|            2649|  7.225|null|   1|2020-01-01 13:36:56|\n",
      "+---+---+---+--------------------+------+----+---+---+----------------+-------+----+----+-------------------+\n",
      "only showing top 20 rows\n",
      "\n"
     ]
    }
   ],
   "source": [
    "# Sort DataFrame by the first column\n",
    "sorted_df = df.orderBy(\"_c0\")\n",
    "sorted_df.show()"
   ]
  },
  {
   "cell_type": "code",
   "execution_count": 65,
   "id": "c67f06d6-8f50-4744-aa9d-097fd2c6b8bf",
   "metadata": {},
   "outputs": [],
   "source": [
    "# Save sorted DataFrame to Parquet file\n",
    "output_path = \"output.parquet\"\n",
    "sorted_df.write.parquet(output_path)"
   ]
  },
  {
   "cell_type": "code",
   "execution_count": null,
   "id": "7e959139-4c7e-405f-b44e-a3fc1feb752a",
   "metadata": {},
   "outputs": [],
   "source": []
  }
 ],
 "metadata": {
  "kernelspec": {
   "display_name": "Python 3 (ipykernel)",
   "language": "python",
   "name": "python3"
  },
  "language_info": {
   "codemirror_mode": {
    "name": "ipython",
    "version": 3
   },
   "file_extension": ".py",
   "mimetype": "text/x-python",
   "name": "python",
   "nbconvert_exporter": "python",
   "pygments_lexer": "ipython3",
   "version": "3.10.8"
  }
 },
 "nbformat": 4,
 "nbformat_minor": 5
}
