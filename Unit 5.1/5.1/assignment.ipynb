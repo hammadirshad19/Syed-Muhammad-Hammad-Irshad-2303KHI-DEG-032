{
 "cells": [
  {
   "cell_type": "code",
   "execution_count": 1,
   "id": "47144a81-fb70-4c0f-8d6b-02015b628263",
   "metadata": {
    "tags": []
   },
   "outputs": [],
   "source": [
    "from pyspark.sql import SparkSession\n",
    "from pyspark.sql.types import IntegerType, DateType\n",
    "from pyspark.sql.functions import sum, mean, desc, col\n"
   ]
  },
  {
   "cell_type": "code",
   "execution_count": 2,
   "id": "0cfec533-eb86-4b5c-8685-0609dfa06a5f",
   "metadata": {
    "tags": []
   },
   "outputs": [],
   "source": [
    "scSpark = SparkSession.builder.appName(\"Spark Example\").getOrCreate()"
   ]
  },
  {
   "cell_type": "code",
   "execution_count": 3,
   "id": "04f9e6f0-e8c1-42cd-af73-a1bd8cee9aa2",
   "metadata": {
    "tags": []
   },
   "outputs": [],
   "source": [
    "transactions_merged_df = scSpark.read.csv(\"transactions_*.csv\", header=True)\n",
    "products_df = scSpark.read.csv(\"products.csv\", header=True)\n",
    "customers_df = scSpark.read.csv(\"customers.csv\", header=True)"
   ]
  },
  {
   "cell_type": "code",
   "execution_count": 4,
   "id": "b91d205f-259a-4f5f-831b-8507089b80bb",
   "metadata": {
    "tags": []
   },
   "outputs": [
    {
     "name": "stdout",
     "output_type": "stream",
     "text": [
      "+-------+-------------+----------+---------+--------+-------------------+\n",
      "|StoreId|TransactionId|CustomerId|ProductId|Quantity|    TransactionTime|\n",
      "+-------+-------------+----------+---------+--------+-------------------+\n",
      "|      3|          454|        35|        3|       3|2022-12-23 17:36:11|\n",
      "|      3|          524|        37|        9|      11|2022-12-23 22:02:51|\n",
      "|      3|          562|         4|        3|       4|2022-12-23 02:51:50|\n",
      "|      3|          581|        35|       14|      56|2022-12-23 17:05:54|\n",
      "|      3|          200|        34|       15|      24|2022-12-23 07:15:01|\n",
      "+-------+-------------+----------+---------+--------+-------------------+\n",
      "\n"
     ]
    }
   ],
   "source": [
    "transactions_merged_df.limit(5).show()"
   ]
  },
  {
   "cell_type": "code",
   "execution_count": 5,
   "id": "c06bb581-a78f-48f3-b36d-5e51d887fdf1",
   "metadata": {
    "tags": []
   },
   "outputs": [
    {
     "name": "stdout",
     "output_type": "stream",
     "text": [
      "+---------+------------+--------+---------+\n",
      "|ProductId|        Name|Category|UnitPrice|\n",
      "+---------+------------+--------+---------+\n",
      "|        1|  Red Shorts|  Shorts|    89.75|\n",
      "|        2|White Shorts|  Shorts|    89.27|\n",
      "|        3| Blue Shorts|  Shorts|   118.88|\n",
      "|        4|Green Shorts|  Shorts|   121.43|\n",
      "|        5|Black Shorts|  Shorts|    74.58|\n",
      "+---------+------------+--------+---------+\n",
      "\n"
     ]
    }
   ],
   "source": [
    "products_df.limit(5).show()"
   ]
  },
  {
   "cell_type": "code",
   "execution_count": 6,
   "id": "aaf14b5d-6cf6-41c1-9258-eb3034ad52fd",
   "metadata": {
    "tags": []
   },
   "outputs": [
    {
     "name": "stdout",
     "output_type": "stream",
     "text": [
      "+----------+--------------+--------------------+\n",
      "|CustomerId|          Name|               Email|\n",
      "+----------+--------------+--------------------+\n",
      "|         1|Emilia Pedraza|emilia.pedraza@ex...|\n",
      "|         2|  Thies Blümel|thies.blumel@exam...|\n",
      "|         3| بهاره علیزاده|bhrh.aalyzdh@exam...|\n",
      "|         4| Alevtin Paska|alevtin.paska@exa...|\n",
      "|         5|Charlotte Wong|charlotte.wong@ex...|\n",
      "+----------+--------------+--------------------+\n",
      "\n"
     ]
    }
   ],
   "source": [
    "customers_df.limit(5).show()"
   ]
  },
  {
   "cell_type": "code",
   "execution_count": 7,
   "id": "6f96ee63-268f-48ff-bfba-4400465cce38",
   "metadata": {
    "tags": []
   },
   "outputs": [],
   "source": [
    "joined_tran_pro_cus_df = transactions_merged_df.join(customers_df, on='CustomerId', how='inner').join(products_df, on='ProductId', how='inner')"
   ]
  },
  {
   "cell_type": "code",
   "execution_count": 8,
   "id": "b3e235b2-d3b8-4249-887f-dc2f1ee9ed2e",
   "metadata": {
    "tags": []
   },
   "outputs": [
    {
     "name": "stdout",
     "output_type": "stream",
     "text": [
      "+---------+----------+-------+-------------+--------+-------------------+--------------+--------------------+-------------+--------+---------+\n",
      "|ProductId|CustomerId|StoreId|TransactionId|Quantity|    TransactionTime|          Name|               Email|         Name|Category|UnitPrice|\n",
      "+---------+----------+-------+-------------+--------+-------------------+--------------+--------------------+-------------+--------+---------+\n",
      "|        3|        35|      3|          454|       3|2022-12-23 17:36:11|Dwayne Johnson|dwayne.johnson@gm...|  Blue Shorts|  Shorts|   118.88|\n",
      "|        9|        37|      3|          524|      11|2022-12-23 22:02:51| Brittany Holt|brittany.holt@exa...|Green Sandals|   Shoes|   137.53|\n",
      "|        3|         4|      3|          562|       4|2022-12-23 02:51:50| Alevtin Paska|alevtin.paska@exa...|  Blue Shorts|  Shorts|   118.88|\n",
      "|       14|        35|      3|          581|      56|2022-12-23 17:05:54|Dwayne Johnson|dwayne.johnson@gm...|  Red t-shirt|T-Shirts|   121.58|\n",
      "|       15|        34|      3|          200|      24|2022-12-23 07:15:01|      Avi Shet|avi.shet@example.com|White t-shirt|T-Shirts|   131.13|\n",
      "+---------+----------+-------+-------------+--------+-------------------+--------------+--------------------+-------------+--------+---------+\n",
      "\n"
     ]
    }
   ],
   "source": [
    "joined_tran_pro_cus_df.limit(5).show()"
   ]
  },
  {
   "cell_type": "code",
   "execution_count": 9,
   "id": "0312e6b4-46ce-479c-8eff-4c1bf4f0c782",
   "metadata": {
    "tags": []
   },
   "outputs": [],
   "source": [
    "# Convert TransactionTime column to DateType\n",
    "df = joined_tran_pro_cus_df.withColumn(\"TransactionTime\", joined_tran_pro_cus_df[\"TransactionTime\"].cast(DateType()))"
   ]
  },
  {
   "cell_type": "code",
   "execution_count": 10,
   "id": "2cc1bede-a7af-4c0a-8683-6fbff4f09ac3",
   "metadata": {
    "tags": []
   },
   "outputs": [
    {
     "name": "stdout",
     "output_type": "stream",
     "text": [
      "+---------------+----------+\n",
      "|TransactionTime|TotalSales|\n",
      "+---------------+----------+\n",
      "|     2022-12-23|     41070|\n",
      "+---------------+----------+\n",
      "\n"
     ]
    }
   ],
   "source": [
    "# Convert Quantity and UnitPrice columns to appropriate data types\n",
    "df = df.withColumn(\"Quantity\", df[\"Quantity\"].cast(IntegerType()))\n",
    "df = df.withColumn(\"UnitPrice\", df[\"UnitPrice\"].cast(IntegerType()))\n",
    "\n",
    "# Calculate total sales for each transaction\n",
    "sales_df = df.withColumn(\"Sales\", df[\"Quantity\"] * df[\"UnitPrice\"])\n",
    "\n",
    "# Group by TransactionTime and calculate daily total sales\n",
    "daily_total_sales_StoreId_1 = sales_df.filter(df[\"StoreId\"] == 1).groupBy(\"TransactionTime\").agg(sum(\"Sales\").alias(\"TotalSales\"))\n",
    "\n",
    "# Show the result\n",
    "daily_total_sales_StoreId_1.show()"
   ]
  },
  {
   "cell_type": "code",
   "execution_count": 11,
   "id": "4f4712ed-af7e-4f07-b45a-9dad86f8dd7d",
   "metadata": {
    "tags": []
   },
   "outputs": [
    {
     "name": "stdout",
     "output_type": "stream",
     "text": [
      "+----------------+\n",
      "|      TotalSales|\n",
      "+----------------+\n",
      "|511.921568627451|\n",
      "+----------------+\n",
      "\n"
     ]
    }
   ],
   "source": [
    "# Group by TransactionTime and calculate daily total sales\n",
    "mean_sales_StoreId_2 = sales_df.filter(df[\"StoreId\"] == 2).agg(mean(\"Sales\").alias(\"TotalSales\"))\n",
    "\n",
    "# Show the result\n",
    "mean_sales_StoreId_2.show()"
   ]
  },
  {
   "cell_type": "code",
   "execution_count": 12,
   "id": "6fc67848-6a5c-4bb2-a30e-c7cc5073c9b2",
   "metadata": {
    "tags": []
   },
   "outputs": [],
   "source": [
    "# Group by CustomerId and calculate the total purchase amount for each customer\n",
    "customer_total_purchase = sales_df.groupBy(\"CustomerId\").agg(sum(\"Sales\").alias(\"TotalPurchase\"))"
   ]
  },
  {
   "cell_type": "code",
   "execution_count": 13,
   "id": "22692ca6-26b8-486f-acc7-11f27ea9f169",
   "metadata": {
    "tags": []
   },
   "outputs": [],
   "source": [
    "# Sort the data in descending order of the total purchase amount\n",
    "customer_total_purchase = customer_total_purchase.orderBy(desc(\"TotalPurchase\")).limit(1)\n"
   ]
  },
  {
   "cell_type": "code",
   "execution_count": 14,
   "id": "d3f16307-77e7-44e7-81d8-fd27a2798718",
   "metadata": {
    "tags": []
   },
   "outputs": [
    {
     "name": "stdout",
     "output_type": "stream",
     "text": [
      "+----------+-------------+--------------------+\n",
      "|CustomerId|TotalPurchase|               Email|\n",
      "+----------+-------------+--------------------+\n",
      "|        35|        10598|dwayne.johnson@gm...|\n",
      "+----------+-------------+--------------------+\n",
      "\n"
     ]
    }
   ],
   "source": [
    "# Get the email of the customer who spent the most\n",
    "most_spent_customer_email =customer_total_purchase.join(customers_df, on='CustomerId', how='inner').select(\"CustomerId\", \"TotalPurchase\", \"Email\")\n",
    "most_spent_customer_email.show()"
   ]
  },
  {
   "cell_type": "code",
   "execution_count": 15,
   "id": "18b0b0bd-3613-437d-8e88-3de6415f69d4",
   "metadata": {
    "tags": []
   },
   "outputs": [
    {
     "name": "stdout",
     "output_type": "stream",
     "text": [
      "+---------+-------------+-------------+\n",
      "|ProductId|         Name|TotalQuantity|\n",
      "+---------+-------------+-------------+\n",
      "|       14|  Red t-shirt|         82.0|\n",
      "|       24|   Blue Jeans|         77.0|\n",
      "|       15|White t-shirt|         76.0|\n",
      "|        5| Black Shorts|         75.0|\n",
      "|       19| Green jacket|         74.0|\n",
      "+---------+-------------+-------------+\n",
      "\n"
     ]
    }
   ],
   "source": [
    "frequently_bought_products = joined_tran_pro_cus_df.groupBy(\"ProductId\", products_df[\"Name\"]).agg(sum(\"Quantity\").alias(\"TotalQuantity\")).orderBy(desc(\"TotalQuantity\")).limit(5)\n",
    "frequently_bought_products.show()"
   ]
  },
  {
   "cell_type": "code",
   "execution_count": null,
   "id": "cd5ea9a7-1175-4806-b12a-6200eae1d4a6",
   "metadata": {
    "tags": []
   },
   "outputs": [],
   "source": []
  },
  {
   "cell_type": "code",
   "execution_count": null,
   "id": "e0dcbeff-0404-42a3-acd7-361ce8ad7622",
   "metadata": {},
   "outputs": [],
   "source": []
  },
  {
   "cell_type": "code",
   "execution_count": null,
   "id": "b6d013c1-6247-4527-8657-2df38862fa4f",
   "metadata": {},
   "outputs": [],
   "source": []
  },
  {
   "cell_type": "code",
   "execution_count": null,
   "id": "7efd04e1-cbec-4dc6-8bb2-21d7942c674a",
   "metadata": {},
   "outputs": [],
   "source": []
  }
 ],
 "metadata": {
  "kernelspec": {
   "display_name": "Python 3 (ipykernel)",
   "language": "python",
   "name": "python3"
  },
  "language_info": {
   "codemirror_mode": {
    "name": "ipython",
    "version": 3
   },
   "file_extension": ".py",
   "mimetype": "text/x-python",
   "name": "python",
   "nbconvert_exporter": "python",
   "pygments_lexer": "ipython3",
   "version": "3.10.11"
  }
 },
 "nbformat": 4,
 "nbformat_minor": 5
}
