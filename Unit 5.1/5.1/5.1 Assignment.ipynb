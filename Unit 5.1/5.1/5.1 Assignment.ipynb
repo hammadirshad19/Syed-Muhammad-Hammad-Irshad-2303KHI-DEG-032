{
 "cells": [
  {
   "cell_type": "code",
   "execution_count": null,
   "id": "b3083bcc",
   "metadata": {},
   "outputs": [],
   "source": []
  },
  {
   "cell_type": "code",
   "execution_count": 1,
   "id": "4721c995",
   "metadata": {},
   "outputs": [],
   "source": [
    "from pyspark.sql import SparkSession\n",
    "from pyspark.sql.types import IntegerType"
   ]
  },
  {
   "cell_type": "code",
   "execution_count": 2,
   "id": "ba6c38b2",
   "metadata": {},
   "outputs": [
    {
     "name": "stderr",
     "output_type": "stream",
     "text": [
      "23/05/16 07:58:08 WARN Utils: Your hostname, all-MS-7D35 resolves to a loopback address: 127.0.1.1; using 192.168.1.138 instead (on interface enp2s0)\n",
      "23/05/16 07:58:08 WARN Utils: Set SPARK_LOCAL_IP if you need to bind to another address\n",
      "Setting default log level to \"WARN\".\n",
      "To adjust logging level use sc.setLogLevel(newLevel). For SparkR, use setLogLevel(newLevel).\n",
      "23/05/16 07:58:08 WARN NativeCodeLoader: Unable to load native-hadoop library for your platform... using builtin-java classes where applicable\n"
     ]
    }
   ],
   "source": [
    "scSpark = SparkSession.builder.appName(\"Spark Example\").getOrCreate()"
   ]
  },
  {
   "cell_type": "code",
   "execution_count": 3,
   "id": "2d0f83a0",
   "metadata": {},
   "outputs": [],
   "source": [
    "transactions_merged_df = scSpark.read.csv(\"transactions_*.csv\", header=True)\n",
    "products_df = scSpark.read.csv(\"products.csv\", header=True)\n",
    "customers_df = scSpark.read.csv(\"customers.csv\", header=True)"
   ]
  },
  {
   "cell_type": "code",
   "execution_count": 4,
   "id": "b28fe76f",
   "metadata": {
    "scrolled": true
   },
   "outputs": [
    {
     "name": "stdout",
     "output_type": "stream",
     "text": [
      "+-------+-------------+----------+---------+--------+-------------------+\n",
      "|StoreId|TransactionId|CustomerId|ProductId|Quantity|    TransactionTime|\n",
      "+-------+-------------+----------+---------+--------+-------------------+\n",
      "|      3|          454|        35|        3|       3|2022-12-23 17:36:11|\n",
      "|      3|          524|        37|        9|      11|2022-12-23 22:02:51|\n",
      "|      3|          562|         4|        3|       4|2022-12-23 02:51:50|\n",
      "|      3|          581|        35|       14|      56|2022-12-23 17:05:54|\n",
      "|      3|          200|        34|       15|      24|2022-12-23 07:15:01|\n",
      "+-------+-------------+----------+---------+--------+-------------------+\n",
      "\n"
     ]
    }
   ],
   "source": [
    "transactions_merged_df.limit(5).show()"
   ]
  },
  {
   "cell_type": "code",
   "execution_count": 5,
   "id": "baed999d",
   "metadata": {},
   "outputs": [
    {
     "name": "stdout",
     "output_type": "stream",
     "text": [
      "+---------+------------+--------+---------+\n",
      "|ProductId|        Name|Category|UnitPrice|\n",
      "+---------+------------+--------+---------+\n",
      "|        1|  Red Shorts|  Shorts|    89.75|\n",
      "|        2|White Shorts|  Shorts|    89.27|\n",
      "|        3| Blue Shorts|  Shorts|   118.88|\n",
      "|        4|Green Shorts|  Shorts|   121.43|\n",
      "|        5|Black Shorts|  Shorts|    74.58|\n",
      "+---------+------------+--------+---------+\n",
      "\n"
     ]
    }
   ],
   "source": [
    "products_df.limit(5).show()"
   ]
  },
  {
   "cell_type": "code",
   "execution_count": 6,
   "id": "53afaddb",
   "metadata": {},
   "outputs": [
    {
     "name": "stdout",
     "output_type": "stream",
     "text": [
      "+----------+--------------+--------------------+\n",
      "|CustomerId|          Name|               Email|\n",
      "+----------+--------------+--------------------+\n",
      "|         1|Emilia Pedraza|emilia.pedraza@ex...|\n",
      "|         2|  Thies Blümel|thies.blumel@exam...|\n",
      "|         3| بهاره علیزاده|bhrh.aalyzdh@exam...|\n",
      "|         4| Alevtin Paska|alevtin.paska@exa...|\n",
      "|         5|Charlotte Wong|charlotte.wong@ex...|\n",
      "+----------+--------------+--------------------+\n",
      "\n"
     ]
    }
   ],
   "source": [
    "customers_df.limit(5).show()"
   ]
  },
  {
   "cell_type": "code",
   "execution_count": 7,
   "id": "8f4fe964",
   "metadata": {},
   "outputs": [],
   "source": [
    "joined_tran_pro_cus_df = transactions_merged_df.join(products_df, transactions_merged_df[\"ProductId\"] == products_df[\"ProductId\"], \"inner\").join(customers_df, transactions_merged_df[\"CustomerId\"] == customers_df[\"CustomerId\"], \"inner\")"
   ]
  },
  {
   "cell_type": "code",
   "execution_count": 8,
   "id": "ab6dfcbf",
   "metadata": {},
   "outputs": [
    {
     "name": "stdout",
     "output_type": "stream",
     "text": [
      "+-------+-------------+----------+---------+--------+-------------------+---------+-------------+--------+---------+----------+--------------+--------------------+\n",
      "|StoreId|TransactionId|CustomerId|ProductId|Quantity|    TransactionTime|ProductId|         Name|Category|UnitPrice|CustomerId|          Name|               Email|\n",
      "+-------+-------------+----------+---------+--------+-------------------+---------+-------------+--------+---------+----------+--------------+--------------------+\n",
      "|      3|          454|        35|        3|       3|2022-12-23 17:36:11|        3|  Blue Shorts|  Shorts|   118.88|        35|Dwayne Johnson|dwayne.johnson@gm...|\n",
      "|      3|          524|        37|        9|      11|2022-12-23 22:02:51|        9|Green Sandals|   Shoes|   137.53|        37| Brittany Holt|brittany.holt@exa...|\n",
      "|      3|          562|         4|        3|       4|2022-12-23 02:51:50|        3|  Blue Shorts|  Shorts|   118.88|         4| Alevtin Paska|alevtin.paska@exa...|\n",
      "|      3|          581|        35|       14|      56|2022-12-23 17:05:54|       14|  Red t-shirt|T-Shirts|   121.58|        35|Dwayne Johnson|dwayne.johnson@gm...|\n",
      "|      3|          200|        34|       15|      24|2022-12-23 07:15:01|       15|White t-shirt|T-Shirts|   131.13|        34|      Avi Shet|avi.shet@example.com|\n",
      "+-------+-------------+----------+---------+--------+-------------------+---------+-------------+--------+---------+----------+--------------+--------------------+\n",
      "\n"
     ]
    }
   ],
   "source": [
    "joined_tran_pro_cus_df.limit(5).show()"
   ]
  },
  {
   "cell_type": "code",
   "execution_count": null,
   "id": "77a2a382",
   "metadata": {},
   "outputs": [],
   "source": []
  },
  {
   "cell_type": "code",
   "execution_count": null,
   "id": "356b2791",
   "metadata": {},
   "outputs": [],
   "source": []
  },
  {
   "cell_type": "code",
   "execution_count": 27,
   "id": "fef7e9ab",
   "metadata": {},
   "outputs": [],
   "source": []
  },
  {
   "cell_type": "code",
   "execution_count": null,
   "id": "95b47eaf",
   "metadata": {},
   "outputs": [],
   "source": []
  },
  {
   "cell_type": "code",
   "execution_count": null,
   "id": "c8f2d093",
   "metadata": {},
   "outputs": [],
   "source": []
  }
 ],
 "metadata": {
  "kernelspec": {
   "display_name": "Python 3 (ipykernel)",
   "language": "python",
   "name": "python3"
  },
  "language_info": {
   "codemirror_mode": {
    "name": "ipython",
    "version": 3
   },
   "file_extension": ".py",
   "mimetype": "text/x-python",
   "name": "python",
   "nbconvert_exporter": "python",
   "pygments_lexer": "ipython3",
   "version": "3.10.6"
  }
 },
 "nbformat": 4,
 "nbformat_minor": 5
}
